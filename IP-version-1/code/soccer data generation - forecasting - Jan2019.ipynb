{
 "cells": [
  {
   "cell_type": "code",
   "execution_count": null,
   "metadata": {},
   "outputs": [],
   "source": [
    "import pandas as pd\n",
    "pd.options.display.max_rows = 5\n",
    "import os\n",
    "import numpy as np"
   ]
  },
  {
   "cell_type": "code",
   "execution_count": null,
   "metadata": {},
   "outputs": [],
   "source": [
    "data_path = os.path.abspath(os.path.join(os.getcwd(), os.pardir, 'data'))\n",
    "df = pd.read_csv(os.path.join(data_path, 'sofifa_players_201314to201718_Jan2019.csv'))"
   ]
  },
  {
   "cell_type": "code",
   "execution_count": null,
   "metadata": {},
   "outputs": [],
   "source": [
    "df.head(2)"
   ]
  },
  {
   "cell_type": "code",
   "execution_count": null,
   "metadata": {},
   "outputs": [],
   "source": [
    "df.columns = ['id', 'date', 'name1', 'name2', 'country', 'age', 'pos1', 'pos2', 'pos3', 'overall_rating', 'potential', 'value', 'wage', 'special_total', 'team', 'contract']"
   ]
  },
  {
   "cell_type": "markdown",
   "metadata": {},
   "source": [
    "##### Get counts of types of players (based on positions/roles) in the raw data set\n",
    "Also save as an Excel file for LaTeX conversion"
   ]
  },
  {
   "cell_type": "code",
   "execution_count": null,
   "metadata": {},
   "outputs": [],
   "source": [
    "print(df.shape)\n",
    "df_roles_table =  df.drop_duplicates(['name2', 'pos1', 'country'])\n",
    "print(df_roles_table.shape)\n",
    "df_roles_table = df.groupby(['pos1']).agg('count')\n",
    "df_roles_table = df_roles_table.reset_index()\n",
    "df_roles_table = df_roles_table[['pos1', 'id']]\n",
    "df_roles_table.columns = ['role', 'count']\n",
    "df_roles_table.sort_values(['role'])\n",
    "df_roles_table.to_excel('df_roles_table.xlsx')\n",
    "df_roles_table"
   ]
  },
  {
   "cell_type": "code",
   "execution_count": null,
   "metadata": {},
   "outputs": [],
   "source": [
    "# counts of countries and clubs\n",
    "print(len(df['country'].unique()))\n",
    "print(len(df['team'].unique()))"
   ]
  },
  {
   "cell_type": "code",
   "execution_count": null,
   "metadata": {},
   "outputs": [],
   "source": [
    "df = df[['date', 'name2', 'team', 'country', 'age', 'pos1', 'overall_rating', 'potential', 'value', 'wage']]"
   ]
  },
  {
   "cell_type": "code",
   "execution_count": null,
   "metadata": {},
   "outputs": [],
   "source": [
    "df.date = df.date.str[-14:]\n",
    "# df.value = df.value.str.replace('M', '')\n",
    "df.value = df.value.str.replace('€', '')\n",
    "# df.wage = df.wage.str.replace('K', '')\n",
    "df.wage = df.wage.str.replace('€', '')\n",
    "df.value = (df.value.replace(r'[KM]+$', '', regex=True).astype(float) * df.value.str.extract(r'[\\d\\.]+([KM]+)', expand=False) .fillna(1).replace(['K','M'], [10**3, 10**6]).astype(int))\n",
    "df.wage = (df.wage.replace(r'[KM]+$', '', regex=True).astype(float) * df.wage.str.extract(r'[\\d\\.]+([KM]+)', expand=False) .fillna(1).replace(['K','M'], [10**3, 10**6]).astype(int))\n",
    "# df"
   ]
  },
  {
   "cell_type": "code",
   "execution_count": null,
   "metadata": {},
   "outputs": [],
   "source": [
    "# df = df.replace('0', np.nan).ffill() # to replace NAs with 0. Not using this method\n",
    "df = df.dropna() # this may be better than replacing NAs with 0\n",
    "# df"
   ]
  },
  {
   "cell_type": "code",
   "execution_count": null,
   "metadata": {},
   "outputs": [],
   "source": [
    "df.date = pd.to_datetime(df.date)\n",
    "df = df.sort_values(by = 'date')\n",
    "df.index = range(len(df.index))\n",
    "# df"
   ]
  },
  {
   "cell_type": "code",
   "execution_count": null,
   "metadata": {},
   "outputs": [],
   "source": [
    "df['month'] = df['date'].dt.month\n",
    "df['year'] = df['date'].dt.year"
   ]
  },
  {
   "cell_type": "code",
   "execution_count": null,
   "metadata": {},
   "outputs": [],
   "source": [
    "df.value = pd.to_numeric(df.value)\n",
    "df.wage = pd.to_numeric(df.wage)"
   ]
  },
  {
   "cell_type": "code",
   "execution_count": null,
   "metadata": {},
   "outputs": [],
   "source": [
    "df.head(2)"
   ]
  },
  {
   "cell_type": "code",
   "execution_count": null,
   "metadata": {},
   "outputs": [],
   "source": [
    "df['date'].unique()"
   ]
  },
  {
   "cell_type": "code",
   "execution_count": null,
   "metadata": {},
   "outputs": [],
   "source": [
    "# separate data sets for \"train\" and \"test\" (not ML model though)\n",
    "df_train = df[df['date']<pd.to_datetime('2016-05-05')]\n",
    "df_test = df[df['date']>=pd.to_datetime('2016-05-05')]"
   ]
  },
  {
   "cell_type": "code",
   "execution_count": null,
   "metadata": {},
   "outputs": [],
   "source": [
    "df_train['date'].unique()"
   ]
  },
  {
   "cell_type": "code",
   "execution_count": null,
   "metadata": {},
   "outputs": [],
   "source": [
    "df_test['date'].unique()"
   ]
  },
  {
   "cell_type": "code",
   "execution_count": null,
   "metadata": {},
   "outputs": [],
   "source": [
    "df_names = df.name2.unique()\n",
    "len(df_names)"
   ]
  },
  {
   "cell_type": "code",
   "execution_count": null,
   "metadata": {},
   "outputs": [],
   "source": [
    "df_train_names = df_train.name2.unique()\n",
    "len(df_train_names)"
   ]
  },
  {
   "cell_type": "code",
   "execution_count": null,
   "metadata": {},
   "outputs": [],
   "source": [
    "df_test_names = df_test.name2.unique()\n",
    "len(df_test_names)"
   ]
  },
  {
   "cell_type": "code",
   "execution_count": null,
   "metadata": {},
   "outputs": [],
   "source": [
    "test_dates = df_test['date'].unique()"
   ]
  },
  {
   "cell_type": "code",
   "execution_count": null,
   "metadata": {},
   "outputs": [],
   "source": [
    "# function to give projections of market value, salary, rating, and potential rating (for each player)\n",
    "def futureInput(df_train_player):\n",
    "    n_rows = df_train_player.shape[0]\n",
    "    df_train_player_future = df_train_player.tail(1)\n",
    "    for i in range(len(test_dates)-1):\n",
    "        df_train_player_future= df_train_player_future.append(df_train_player.tail(1))\n",
    "    df_train_player_future['team'] = df_train_player['team'][n_rows-1]\n",
    "    df_train_player_future['country'] = df_train_player['country'][n_rows-1]\n",
    "    df_train_player_future['date'] = test_dates\n",
    "    df_train_player_future['month'] = df_train_player_future['date'].dt.month\n",
    "    df_train_player_future['year'] = df_train_player_future['date'].dt.year\n",
    "    df_train_player_future.index = list(range(0, df_train_player_future.shape[0]))\n",
    "    df_train_player_temp = df_train_player\n",
    "    if df_train_player.age[n_rows-1] != df_train_player.age[n_rows-2]:\n",
    "        df_train_player_future.age[:3] = df_train_player_temp.age[n_rows-1]\n",
    "        df_train_player_future.age[3:7] = df_train_player_temp.age[n_rows-1] + 1\n",
    "        df_train_player_future.age[7:] = df_train_player_temp.age[n_rows-1] + 2\n",
    "    elif df_train_player.age[n_rows-1] != df_train_player.age[n_rows-3]:\n",
    "        df_train_player_future.age[:2] = df_train_player_temp.age[n_rows-1]\n",
    "        df_train_player_future.age[2:6] = df_train_player_temp.age[n_rows-1] + 1\n",
    "        df_train_player_future.age[6:10] = df_train_player_temp.age[n_rows-1] + 2\n",
    "        df_train_player_future.age[10:] = df_train_player_temp.age[n_rows-1] + 3\n",
    "    elif df_train_player.age[n_rows-1] != df_train_player.age[n_rows-4]:\n",
    "        df_train_player_future.age[:1] = df_train_player_temp.age[n_rows-1]\n",
    "        df_train_player_future.age[1:5] = df_train_player_temp.age[n_rows-1] + 1\n",
    "        df_train_player_future.age[5:9] = df_train_player_temp.age[n_rows-1] + 2\n",
    "        df_train_player_future.age[9:] = df_train_player_temp.age[n_rows-1] + 3\n",
    "    else:\n",
    "        df_train_player_future.age[:4] = df_train_player_temp.age[n_rows-1] + 1\n",
    "        df_train_player_future.age[4:7] = df_train_player_temp.age[n_rows-1] + 2\n",
    "        df_train_player_future.age[7:] = df_train_player_temp.age[n_rows-1] + 3\n",
    "    df_train_player_future = df_train_player.append(df_train_player_future)\n",
    "    df_train_player_future.index = list(range(df_train_player_future.shape[0]))\n",
    "    for i in range(len(test_dates)):\n",
    "        df_train_player_future.overall_rating[n_rows + i] = df_train_player_future.overall_rating[n_rows - 4 + i: n_rows + i].mean()\n",
    "        df_train_player_future.potential[n_rows + i] = df_train_player_future.potential[n_rows - 4 + i: n_rows + i].mean()\n",
    "        df_train_player_future.value[n_rows + i] = df_train_player_future.value[n_rows - 4 + i: n_rows + i].mean()\n",
    "        df_train_player_future.wage[n_rows + i] = df_train_player_future.wage[n_rows - 4 + i: n_rows + i].mean()\n",
    "    return df_train_player_future"
   ]
  },
  {
   "cell_type": "code",
   "execution_count": null,
   "metadata": {},
   "outputs": [],
   "source": [
    "# preparation for creating output data sets in the required format\n",
    "n_w = 6 # n_w is the number of transfer windows in test set (including the two dummy ones - initial and final)\n",
    "\n",
    "age_cols = ['age_'+str(s) for s in range(n_w)] \n",
    "overall_rating_cols = ['rating_'+str(s) for s in range(n_w)] \n",
    "potential_cols = ['potential_'+str(s) for s in range(n_w)] \n",
    "country_cols = ['hg_'+str(s) for s in range(n_w)] \n",
    "value_cols = ['v_'+str(s) for s in range(n_w)] \n",
    "wage_cols = ['s_'+str(s) for s in range(n_w)]\n",
    "\n",
    "# key names for which loops are implemented below to create output val dictionaries\n",
    "op_dict_keys = [age_cols, overall_rating_cols, potential_cols, country_cols, value_cols, wage_cols]\n",
    "\n",
    "# col names for which loops are implemented below to create output val dictionaries\n",
    "op_dict_cols = ['age', 'overall_rating', 'potential', 'country', 'value', 'wage']\n",
    "\n",
    "# create empty lists for each of the above cols, and also for playerRoles, z, and y\n",
    "op_dict_lists = [[] for col in op_dict_cols]\n",
    "playerRoles = []\n",
    "z = []\n",
    "y = []"
   ]
  },
  {
   "cell_type": "code",
   "execution_count": null,
   "metadata": {},
   "outputs": [],
   "source": [
    "counter_n = 0 \n",
    "counter_p = 0\n",
    "for name in df_train_names:\n",
    "    counter_n = counter_n + 1\n",
    "    df_train_player = df_train[df_train.name2 == name]\n",
    "    df_train_player = df_train_player[df_train_player.value != 0]\n",
    "    n_rows = df_train_player.shape[0]\n",
    "    df_train_player.index = list(range(0, n_rows))\n",
    "    if n_rows >= 4 and df_train_player.age[n_rows-1] > df_train_player.age[0]:\n",
    "        df_train_temp = df_train_player\n",
    "        if df_train_player.year[n_rows-1] == 2016 and df_train_player.month[n_rows-1] == 2:\n",
    "            if df_train_player.year[n_rows-1] >= df_train_player.year[0]:\n",
    "                counter_p = counter_p + 1\n",
    "                print('Counter_p = ' + str(counter_p) + '; ' + 'Counter_n = ' + str(counter_n))\n",
    "                print(df_train_player.shape)\n",
    "                df_train_player_future = futureInput(df_train_player)\n",
    "                # in the below line, \"n_rows-1\" and \"n_rows+8\" are the dummies, initial and final respectively. \"n_rows_8\" values will be set to 0\n",
    "                df_train_player_temp = df_train_player_future.iloc[[n_rows-1, n_rows, n_rows+2, n_rows+4, n_rows+6, n_rows+8], :]\n",
    "                df_train_player_temp.index = list(range(df_train_player_temp.shape[0]))\n",
    "                playerRoles.append({'_player': df_train_player_temp.name2[0], 'pos1': df_train_player_temp.pos1[0]})\n",
    "                for j, col in enumerate(op_dict_cols):\n",
    "                    player_dict = {'_player': df_train_player_temp.name2[0]}\n",
    "                    temp_list = df_train_player_temp[col][:n_w]\n",
    "                    if col!='country':\n",
    "                        temp_list[len(temp_list)-1] = 0 # set \"n_rows_8\" values to 0, as this corresponds to the dummy final transfer window\n",
    "                    temp_dict = dict((key, value) for (key, value) in zip(op_dict_keys[j], temp_list))\n",
    "                    player_dict.update(temp_dict)\n",
    "                    op_dict_lists[j].append(player_dict)\n",
    "                y.append({'_player': df_train_player_temp.name2[0]})\n",
    "                z.append({'_player': df_train_player_temp.name2[0], \n",
    "                            'team_0': df_train_player_temp.team[0]})\n",
    "playerRoles = pd.DataFrame(playerRoles)\n",
    "\n",
    "op_dict_cols = ['age', 'overall_rating', 'potential', 'country', 'value', 'wage', 'y']\n",
    "age = pd.DataFrame(op_dict_lists[0])\n",
    "rating = pd.DataFrame(op_dict_lists[1])\n",
    "potential = pd.DataFrame(op_dict_lists[2])\n",
    "hg = pd.DataFrame(op_dict_lists[3])\n",
    "v = pd.DataFrame(op_dict_lists[4])\n",
    "s = pd.DataFrame(op_dict_lists[5])             \n",
    "\n",
    "z = pd.DataFrame(z)\n",
    "y = pd.DataFrame(y)"
   ]
  },
  {
   "cell_type": "code",
   "execution_count": null,
   "metadata": {},
   "outputs": [],
   "source": [
    "roles = df.pos1.unique()\n",
    "# roles"
   ]
  },
  {
   "cell_type": "code",
   "execution_count": null,
   "metadata": {},
   "outputs": [],
   "source": [
    "roleNames = pd.DataFrame({'pos1': roles, 'num': range(len(roles))})\n",
    "roleNames.columns = ['pos1', 'role']\n",
    "# roleNames"
   ]
  },
  {
   "cell_type": "code",
   "execution_count": null,
   "metadata": {},
   "outputs": [],
   "source": [
    "playerRoles = playerRoles.merge(roleNames, on = 'pos1', how = 'left')\n",
    "playerRoles.columns = ['_player', 'pos1', 'role']\n",
    "# playerRoles"
   ]
  },
  {
   "cell_type": "markdown",
   "metadata": {},
   "source": [
    "##### Get counts of types of players (based on positions/roles) in the processed (train) data set\n",
    "Also save as an Excel file for LaTeX conversion"
   ]
  },
  {
   "cell_type": "code",
   "execution_count": null,
   "metadata": {},
   "outputs": [],
   "source": [
    "player_roles_table = playerRoles.merge(df[['name2', 'pos1', 'country', 'team']], left_on=['_player', 'pos1'], right_on=['name2', 'pos1'])\n",
    "player_roles_table = player_roles_table.drop_duplicates(['name2', 'pos1'])\n",
    "\n",
    "# counts of countries and clubs\n",
    "print(len(player_roles_table['country'].unique()))\n",
    "print(len(player_roles_table['team'].unique()))\n",
    "\n",
    "player_roles_table = player_roles_table.groupby(['pos1']).agg('count')\n",
    "player_roles_table = player_roles_table.reset_index()\n",
    "player_roles_table = player_roles_table[['pos1', 'role']]\n",
    "player_roles_table.columns = ['role', 'count']\n",
    "player_roles_table = player_roles_table.sort_values(['role'])\n",
    "player_roles_table.to_excel('player_roles_table.xlsx')\n",
    "player_roles_table"
   ]
  },
  {
   "cell_type": "markdown",
   "metadata": {},
   "source": [
    "###### Create separate \"z\" and \"y\" data for each PL club considered\n",
    "- so that each team's optimization in CPLEX can be run separately, using the corresponding \"z\" and \"y\" data"
   ]
  },
  {
   "cell_type": "code",
   "execution_count": null,
   "metadata": {},
   "outputs": [],
   "source": [
    "### for z\n",
    "# first, get the list of PL clubs that are considered\n",
    "# data source: www.transfermarkt.com (transfer balances)\n",
    "pl_clubs_budget = pd.read_excel(os.path.join(data_path, 'PL_clubs_transfer_balances.xlsx'), sheet_name='transfer_budgets_processed')\n",
    "pl_clubs_budget = pl_clubs_budget.iloc[:len(pl_clubs_budget)-1,]\n",
    "# note that sofifa team names do not have \" FC\" suffix, hence remove \" FC\"\n",
    "pl_clubs_budget['clubs'] = pl_clubs_budget['clubs'].str.replace(\" FC\", \"\")\n",
    "pl_clubs = pl_clubs_budget[['clubs']]\n",
    "# note that sofifa team names do not have \" FC\" suffix, hence remove \" FC\"\n",
    "pl_clubs['clubs'] = pl_clubs['clubs'].str.replace(\" FC\", \"\")"
   ]
  },
  {
   "cell_type": "code",
   "execution_count": null,
   "metadata": {},
   "outputs": [],
   "source": [
    "# loop for each club and create a new column for each club\n",
    "pl_clubs_list = pl_clubs['clubs'].tolist()\n",
    "for club in pl_clubs_list :\n",
    "    z[club] = 0\n",
    "for club in pl_clubs_list :\n",
    "    z[club] = (z['team_0'] == club).astype(int)"
   ]
  },
  {
   "cell_type": "code",
   "execution_count": null,
   "metadata": {},
   "outputs": [],
   "source": [
    "### for y\n",
    "# For each of the 12 clubs considered, based on our subjective knowledge, we propose a list of 5 players who are \"marquees.\" \n",
    "# These lists are based on the players that have been retained during 2015-16, 2017-18 seasons.\n",
    "# It is assumed that these players won't be available for transfers, during any of the transfer windows considered.\n",
    "n_marquees =  5 # number of marquee players for each club\n",
    "marquee_cols = ['marquee_'+str(s) for s in range(n_marquees)]\n",
    "marquee_cols\n",
    "marquees = pl_clubs.copy()\n",
    "for col in marquee_cols:\n",
    "    marquees[col] = ''\n",
    "marquees = marquees.transpose()\n",
    "marquees.columns = marquees.iloc[0, :]\n",
    "marquees = marquees.iloc[1:, :]\n",
    "\n",
    "marquees['Manchester City'] = ['S. Agüero', 'K. De Bruyne', 'R. Sterling', 'David Silva', 'Fernandinho']\n",
    "marquees['Manchester United'] = ['De Gea', 'A. Valencia', 'C. Smalling', 'J. Lingard', 'Ander Herrera']\n",
    "marquees['Tottenham Hotspur'] = ['J. Vertonghen', 'H. Lloris', 'H. Kane', 'K. Trippier', 'D. Alli']\n",
    "marquees['Liverpool'] = ['D. Sturridge', 'S. Mignolet', 'D. Lovren', 'Roberto Firmino', 'J. Gomez']\n",
    "marquees['Chelsea'] = ['Azpilicueta', 'E. Hazard', 'G. Cahill', 'Willian', 'R. Loftus-Cheek']\n",
    "marquees['Arsenal'] = ['A. Ramsey', 'L. Koscielny', 'M. Özil', 'Héctor Bellerín', 'P. Čech']\n",
    "marquees['Everton'] = ['L. Baines', 'P. Jagielka', 'S. Naismith',  'M. Gueye', 'O. Niasse']\n",
    "marquees['West Ham United'] = ['M. Noble', 'A. Cresswell', 'C. Kouyaté', 'M. Lanzini', 'M. Antonio']\n",
    "marquees['Southampton'] = ['J. Ward-Prowse', 'M. Yoshida', 'R. Bertrand', 'Oriol Romeu', 'Cédric']\n",
    "marquees['Swansea City'] = ['W. Routledge', 'K. Naughton', 'K. Nordfeldt', 'A. Ayew', 'L. Fer']\n",
    "marquees['Stoke City'] = ['R. Shawcross', 'P. Crouch', 'C. Adam', 'J. Butland', 'M. Diouf']\n",
    "marquees['West Bromwich Albion'] = ['B. Myhill', 'C. Dawson', 'C. Brunt', 'J. Morrison', 'C. Yacob']\n",
    "# marquees"
   ]
  },
  {
   "cell_type": "code",
   "execution_count": null,
   "metadata": {},
   "outputs": [],
   "source": [
    "# loop for each club and create a new column for each club\n",
    "for club in pl_clubs_list :\n",
    "    y[club] = y['_player'].isin(marquees[club]).astype(int)\n",
    "y"
   ]
  },
  {
   "cell_type": "code",
   "execution_count": null,
   "metadata": {},
   "outputs": [],
   "source": [
    "country_cols\n",
    "for col in country_cols[:n_w]:\n",
    "    hg[col] = (hg[col]=='England').astype(int)"
   ]
  },
  {
   "cell_type": "code",
   "execution_count": null,
   "metadata": {},
   "outputs": [],
   "source": [
    "# assign some parameters that are assumed to be same for all clubs.\n",
    "scalars = []\n",
    "scalars.append({'param': 'pp', 'value': counter_p})\n",
    "scalars.append({'param': 'tt', 'value': n_w-1}) # number of transfer windows-1 (includes the two dummy ones: initial and final)\n",
    "scalars.append({'param': 'rr', 'value': len(roles)+1})\n",
    "scalars.append({'param': 'nMin', 'value': 25})\n",
    "scalars.append({'param': 'nMax', 'value': 40})\n",
    "scalars.append({'param': 'nHGMin', 'value': 8})\n",
    "scalars = pd.DataFrame(scalars)"
   ]
  },
  {
   "cell_type": "code",
   "execution_count": null,
   "metadata": {},
   "outputs": [],
   "source": [
    "w = []\n",
    "for i in range(n_w):\n",
    "    if i == 0 or i == (n_w-1): # dummy transfer windows (initial and final)\n",
    "        w.append({'w': 0})\n",
    "    else:\n",
    "        w.append({'w': 1/(n_w-2)}) # assign equal weights to all non-dummy transfer windows\n",
    "w = pd.DataFrame(w)"
   ]
  },
  {
   "cell_type": "code",
   "execution_count": null,
   "metadata": {},
   "outputs": [],
   "source": [
    "# assign buying, selling, loaning-in, and loaning-out fees as a function of market value \"v\"\n",
    "fB = v.copy()\n",
    "fB.iloc[:, 1:] = fB.iloc[:, 1:]*1.2\n",
    "temp = ['_player']\n",
    "temp.extend(['fB_'+str(n) for n in range(n_w)])\n",
    "fB.columns = temp\n",
    "fS = v.copy()\n",
    "fS.iloc[:, 1:] = fS.iloc[:, 1:]*1.2\n",
    "temp = ['_player']\n",
    "temp.extend(['fS_'+str(n) for n in range(n_w)])\n",
    "fS.columns = temp\n",
    "fLI = v.copy()\n",
    "fLI.iloc[:, 1:] = fLI.iloc[:, 1:]*0.12\n",
    "temp = ['_player']\n",
    "temp.extend(['fLI_'+str(n) for n in range(n_w)])\n",
    "fLI.columns = temp\n",
    "fLO = v.copy()\n",
    "fLO.iloc[:, 1:] = fLO.iloc[:, 1:]*0.12\n",
    "temp = ['_player']\n",
    "temp.extend(['fLO_'+str(n) for n in range(n_w)])\n",
    "fLO.columns = temp"
   ]
  },
  {
   "cell_type": "code",
   "execution_count": null,
   "metadata": {},
   "outputs": [],
   "source": [
    "# assign nrMin and nrMax values based on subjective knowledge (assumed to be same for all clubs)\n",
    "nrMin = {'CB':2, \n",
    "          'LB':1, \n",
    "          'ST':1, \n",
    "          'CM':1, \n",
    "          'CDM':1, \n",
    "          'RB':1, \n",
    "          'RM':1, \n",
    "          'CAM':1, \n",
    "          'LM':1, \n",
    "          'LW':1, \n",
    "          'GK':2, \n",
    "          'CF':1, \n",
    "          'RW':1, \n",
    "          'LWB':1, \n",
    "          'RWB':1}\n",
    "nrMin = pd.DataFrame.from_dict(nrMin, orient='index')\n",
    "nrMin = nrMin.reset_index()\n",
    "nrMin.columns = ['role', 'nrMin']\n",
    "\n",
    "nrMax = {'CB':4, \n",
    "          'LB':3, \n",
    "          'ST':4, \n",
    "          'CM':4, \n",
    "          'CDM':3, \n",
    "          'RB':3, \n",
    "          'RM':3, \n",
    "          'CAM':4, \n",
    "          'LM':3, \n",
    "          'LW':3, \n",
    "          'GK':3, \n",
    "          'CF':3, \n",
    "          'RW':3, \n",
    "          'LWB':3, \n",
    "          'RWB':3}\n",
    "nrMax = pd.DataFrame.from_dict(nrMax, orient='index')\n",
    "nrMax = nrMax.reset_index()\n",
    "nrMax.columns = ['role', 'nrMax']"
   ]
  },
  {
   "cell_type": "code",
   "execution_count": null,
   "metadata": {},
   "outputs": [],
   "source": [
    "# assign nOutMax and nInMax values based on subjective knowledge (assumed to be same for all clubs)\n",
    "nOutMax = []\n",
    "for i in range(n_w):\n",
    "    if i == 0:\n",
    "        nOutMax.append({'nOutMax': 0})\n",
    "    else:\n",
    "        nOutMax.append({'nOutMax': 10})\n",
    "nOutMax = pd.DataFrame(nOutMax)\n",
    "\n",
    "nInMax = []\n",
    "for i in range(n_w):\n",
    "    if i == 0:\n",
    "        nInMax.append({'nInMax': 0})\n",
    "    else:\n",
    "        nInMax.append({'nInMax': 10})\n",
    "nInMax = pd.DataFrame(nInMax)"
   ]
  },
  {
   "cell_type": "code",
   "execution_count": null,
   "metadata": {},
   "outputs": [],
   "source": [
    "# load transfer expenses for all clubs\n",
    "# data source: www.transfermarkt.com (transfer balances)\n",
    "G = []\n",
    "for i in range(n_w):\n",
    "    if i == 0:\n",
    "        G.append({'G': 0})\n",
    "    else:\n",
    "        G.append({'G': 150})\n",
    "G = pd.DataFrame(G)"
   ]
  },
  {
   "cell_type": "code",
   "execution_count": null,
   "metadata": {},
   "outputs": [],
   "source": [
    "# select transfer windows of interest \n",
    "# include \"2015-16 winter\" as the initial dummy transfer window, include \"net\" to represent a column for the final dummy transfer window\n",
    "G = pl_clubs_budget.loc[:, ['clubs', '2015-16 winter', '2016-17 summer', '2016-17 winter', '2017-18 summer', '2017-18 winter', 'net']]\n",
    "G.rename(columns={'net':'2018-19 summer'}, inplace=True)\n",
    "\n",
    "# Here, negative values represent positive expenditure, and positive values represent negative expenditure (profit)\n",
    "# Negative expenditure is replaced with zero (as profit-making from transfers may not be an objective) \n",
    "G = G.transpose()\n",
    "G.columns = G.loc['clubs', :]\n",
    "G = G.iloc[1:, :]\n",
    "G.iloc[0, :] = 0 # set initial dummy window budget to 0\n",
    "# create artificial values for final dummy window (same as previous similar window (summer/winter))\n",
    "G.iloc[len(G)-1, :] = G.iloc[len(G)-3, :] \n",
    "# replace profits with 0\n",
    "G[G>0] = 0 \n",
    "# show negative values as positive expenditures\n",
    "G[G<0] = G[G<0]*(-1)\n",
    "G"
   ]
  },
  {
   "cell_type": "code",
   "execution_count": null,
   "metadata": {},
   "outputs": [],
   "source": [
    "# save results to Excel file\n",
    "writer = pd.ExcelWriter('output_Jan2019.xlsx')\n",
    "scalars.to_excel(writer, 'scalars')\n",
    "roleNames.to_excel(writer, 'roleNames')\n",
    "playerRoles.to_excel(writer, 'playerRoles')\n",
    "age.to_excel(writer, 'age')\n",
    "rating.to_excel(writer, 'rating')\n",
    "potential.to_excel(writer, 'potential')\n",
    "hg.to_excel(writer, 'hg')\n",
    "y.to_excel(writer, 'y')\n",
    "z.to_excel(writer, 'z')\n",
    "w.to_excel(writer, 'w')\n",
    "v.to_excel(writer, 'v')\n",
    "fB.to_excel(writer, 'fB')\n",
    "fS.to_excel(writer, 'fS')\n",
    "fLI.to_excel(writer, 'fLI')\n",
    "fLO.to_excel(writer, 'fLO')\n",
    "s.to_excel(writer, 's')\n",
    "nrMin.to_excel(writer, 'nrMin')\n",
    "nrMax.to_excel(writer, 'nrMax')\n",
    "nOutMax.to_excel(writer, 'nOutMax')\n",
    "nInMax.to_excel(writer, 'nInMax')\n",
    "G.to_excel(writer, 'G')\n",
    "writer.save()"
   ]
  },
  {
   "cell_type": "code",
   "execution_count": null,
   "metadata": {},
   "outputs": [],
   "source": []
  }
 ],
 "metadata": {
  "kernelspec": {
   "display_name": "Python 3",
   "language": "python",
   "name": "python3"
  },
  "language_info": {
   "codemirror_mode": {
    "name": "ipython",
    "version": 3
   },
   "file_extension": ".py",
   "mimetype": "text/x-python",
   "name": "python",
   "nbconvert_exporter": "python",
   "pygments_lexer": "ipython3",
   "version": "3.6.4"
  }
 },
 "nbformat": 4,
 "nbformat_minor": 2
}
