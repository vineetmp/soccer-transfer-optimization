{
 "cells": [
  {
   "cell_type": "markdown",
   "metadata": {},
   "source": [
    "# Scraping player data from www.sofifa.com"
   ]
  },
  {
   "cell_type": "markdown",
   "metadata": {},
   "source": [
    "For soccer paper - to get data on a large pool of players (~10k) from across the world\n",
    "Top ~10k players selected from Sofifa's list of players arranged in descending order of 'overall rating' and 'potential'\n",
    "Author: Vineet Payyappalli\n",
    "Created: April 2018\n",
    "Last updated: 20190128"
   ]
  },
  {
   "cell_type": "markdown",
   "metadata": {},
   "source": [
    "### Notes:"
   ]
  },
  {
   "cell_type": "markdown",
   "metadata": {},
   "source": [
    "- 10,000 players' data are collected per transfer window\n",
    "- data for each transfer window is found manually, as the dates may not be standard for all seasons/windows\n",
    "- the data for the following dates are collected (for each link, offset needs to be changed to get beyond first page of results):\n",
    "- remember to select \"All\" in the top left of page. Default is \"Hot 100\"\n",
    "- For each link below, offset=0 gives first 80 players; offset=80& gives 80 to 160 and so on\n",
    "1. 2017-18 winter (before) 17th Dec, 2018 (https://sofifa.com/players?v=19&e=159310&set=true&offset=0)\n",
    "2. 2017-18 summer (after) 20th Sep, 2018 (https://sofifa.com/players?v=19&e=159222&set=true&offset=0)\n",
    "3. 2017-18 summer (before) 3rd May, 2018 (https://sofifa.com/players?v=18&e=159082&set=true&offset=0)\n",
    "4. 2017-18 winter (after): 15th Feb, 2018 (https://sofifa.com/players?v=18&e=159005&set=true&offset=0)\n",
    "5. 2017-18 winter (before) 14th Dec, 2017 (https://sofifa.com/players?v=18&e=158942&set=true&offset=0)\n",
    "6. 2017-18 summer (after) 18th Sep, 2017 (https://sofifa.com/players?v=18&e=158855&set=true&offset=0)\n",
    "7. 2017-18 summer (before) 2nd May, 2017 (https://sofifa.com/players?v=17&e=158716&set=true&offset=0)\n",
    "8. 2016-17 winter (after) 14th Feb, 2017 (https://sofifa.com/players?v=17&e=158639&set=true&offset=0)\n",
    "9. 2016-17 winter (before) 15th Dec, 2016 (https://sofifa.com/players?v=17&e=158578&set=true&offset=0)\n",
    "10. 2016-17 summer (after) 20th Sep, 2016 (https://sofifa.com/players?v=17&e=158492&set=true&offset=0)\n",
    "11. 2016-17 summer (before) 5th May, 2016 (https://sofifa.com/players?v=16&e=158354&set=true&offset=0)\n",
    "12. 2015-16 winter (after) 13th Feb, 2016 (https://sofifa.com/players?v=16&e=158272&set=true&offset=0)\n",
    "13. 2015-16 winter (before) 17th Dec, 2015 (https://sofifa.com/players?v=16&e=158214&set=true&offset=0)\n",
    "14. 2015-16 summer (after) 21st Sep, 2015 (https://sofifa.com/players?v=16&e=158127&set=true&offset=0)\n",
    "15. 2015-16 summer (before) 1st May, 2015 (https://sofifa.com/players?v=15&e=157984&set=true&offset=0)\n",
    "16. 2014-15 winter (after) 13th Feb, 2015 (https://sofifa.com/players?v=15&e=157907&set=true&offset=0)\n",
    "17. 2014-15 winter (before) 12th Dec, 2014 (https://sofifa.com/players?v=15&e=157844&set=true&offset=0)\n",
    "18. 2014-15 summer (after) 18th Sep, 2014 (https://sofifa.com/players?v=15&e=157759&set=true&offset=0)\n",
    "19. 2014-15 summer (before) 2nd May, 2014 (https://sofifa.com/players?v=14&e=157620&set=true&offset=0)\n",
    "20. 2013-14 winter (after) 14th Feb, 2014 (https://sofifa.com/players?v=14&e=157543&set=true&offset=0)\n",
    "21. 2013-14 winter (before) 13th Dec, 2013 (https://sofifa.com/players?v=14&e=157480&set=true&offset=0)\n",
    "22. 2013-14 summer (after) 20th Sep, 2013 (https://sofifa.com/players?v=14&e=157396&set=true&offset=0)\n",
    "23. 2013-14 summer (before) 2nd May, 2013 (https://sofifa.com/players?v=13&e=157256&set=true&offset=0)"
   ]
  },
  {
   "cell_type": "markdown",
   "metadata": {},
   "source": [
    "### Code"
   ]
  },
  {
   "cell_type": "code",
   "execution_count": null,
   "metadata": {},
   "outputs": [],
   "source": [
    "import requests\n",
    "from bs4 import BeautifulSoup\n",
    "import pandas as pd\n",
    "\n",
    "headers = {'User-Agent': \n",
    "           'Mozilla/5.0 (X11; Linux x86_64) AppleWebKit/537.36 (KHTML, like Gecko) Chrome/47.0.2526.106 Safari/537.36'}"
   ]
  },
  {
   "cell_type": "code",
   "execution_count": null,
   "metadata": {},
   "outputs": [],
   "source": [
    "dates = ['2018-19 winter (before) 17th Dec, 2018', \n",
    "        '2018-19 summer (after) 20th Sep, 2018',\n",
    "        '2018-19 summer (before) 3rd May, 2018',\n",
    "        '2017-18 winter (after): 15th Feb, 2018', \n",
    "         '2017-18 winter (before): 14th Dec, 2017', \n",
    "         '2017-18 summer (after): 18th Sep, 2017', \n",
    "         '2017-18 summer (before): 2nd May, 2017', \n",
    "         '2016-17 winter (after): 14th Feb, 2017', \n",
    "         '2016-17 winter (before): 15th Dec, 2016', \n",
    "         '2016-17 summer (after): 20th Sep, 2016', \n",
    "         '2016-17 summer (before): 5th May, 2016', \n",
    "         '2015-16 winter (after): 13th Feb, 2016', \n",
    "         '2015-16 winter (before): 17th Dec, 2015', \n",
    "         '2015-16 summer (after): 21st Sep, 2015', \n",
    "         '2015-16 summer (before): 1st May, 2015', \n",
    "         '2014-15 winter (after): 13th Feb, 2015', \n",
    "         '2014-15 winter (before): 12th Dec, 2014', \n",
    "         '2014-15 summer (after): 18th Sep, 2014', \n",
    "         '2014-15 summer (before): 2nd May, 2014', \n",
    "         '2013-14 winter (after): 14th Feb, 2014', \n",
    "         '2013-14 winter (before): 13th Dec, 2013', \n",
    "         '2013-14 summer (after): 20th Sep, 2013', \n",
    "         '2013-14 summer (before): 3rd May, 2013']"
   ]
  },
  {
   "cell_type": "code",
   "execution_count": null,
   "metadata": {},
   "outputs": [],
   "source": [
    "urls = ['https://sofifa.com/players?v=19&e=159310&set=true&offset=',\n",
    "        'https://sofifa.com/players?v=19&e=159222&set=true&offset=',\n",
    "        'https://sofifa.com/players?v=18&e=159082&set=true&offset=',\n",
    "        'https://sofifa.com/players?v=18&e=159005&set=true&offset=', \n",
    "         'https://sofifa.com/players?v=18&e=158942&set=true&offset=', \n",
    "         'https://sofifa.com/players?v=18&e=158855&set=true&offset=', \n",
    "         'https://sofifa.com/players?v=17&e=158716&set=true&offset=', \n",
    "         'https://sofifa.com/players?v=17&e=158639&set=true&offset=', \n",
    "         'https://sofifa.com/players?v=17&e=158578&set=true&offset=', \n",
    "         'https://sofifa.com/players?v=17&e=158492&set=true&offset=', \n",
    "         'https://sofifa.com/players?v=16&e=158354&set=true&offset=', \n",
    "         'https://sofifa.com/players?v=16&e=158272&set=true&offset=', \n",
    "         'https://sofifa.com/players?v=16&e=158214&set=true&offset=', \n",
    "         'https://sofifa.com/players?v=16&e=158127&set=true&offset=', \n",
    "         'https://sofifa.com/players?v=15&e=157984&set=true&offset=', \n",
    "         'https://sofifa.com/players?v=15&e=157907&set=true&offset=', \n",
    "         'https://sofifa.com/players?v=15&e=157844&set=true&offset=', \n",
    "         'https://sofifa.com/players?v=15&e=157759&set=true&offset=', \n",
    "         'https://sofifa.com/players?v=14&e=157620&set=true&offset=', \n",
    "         'https://sofifa.com/players?v=14&e=157543&set=true&offset=', \n",
    "         'https://sofifa.com/players?v=14&e=157480&set=true&offset=', \n",
    "         'https://sofifa.com/players?v=14&e=157396&set=true&offset=', \n",
    "         'https://sofifa.com/players?v=13&e=157256&set=true&offset=']"
   ]
  },
  {
   "cell_type": "code",
   "execution_count": null,
   "metadata": {},
   "outputs": [],
   "source": [
    "sofifa_data = pd.DataFrame(columns = ['date', \n",
    "                                      'name1', 'name2', 'country', 'age', \n",
    "                                      'pos1', 'pos2', 'pos3', \n",
    "                                      'overall_rating', 'potential', \n",
    "                                      'value', 'wage', 'special_total', \n",
    "                                      'team', 'contract'])"
   ]
  },
  {
   "cell_type": "code",
   "execution_count": null,
   "metadata": {},
   "outputs": [],
   "source": [
    "npl = 61 # number of players per page\n",
    "n_players = 10000 # number of players we need\n",
    "n_pages = int(10000/npl) \n",
    "for k, url in enumerate(urls):  \n",
    "    for i in range(1, n_pages+1):\n",
    "        print(k, i)\n",
    "        offset = (i-1)*npl\n",
    "        page = url + str(offset) +'&'\n",
    "        print(page)\n",
    "        pageTree = requests.get(page, headers=headers)\n",
    "        pageSoup = BeautifulSoup(pageTree.content, 'html.parser')\n",
    "        table = pageSoup.find_all('table')[0]\n",
    "        n_players_table = len(table.find('tbody').find_all('tr'))\n",
    "        table_body = table.find('tbody').find_all('tr')\n",
    "        for j in range(0, n_players_table):\n",
    "            player_table = table_body[j]\n",
    "            player_columns = player_table.find_all('td')\n",
    "            country = player_columns[1].find('a').get('title')\n",
    "            name1 = player_columns[1].find_all('a')[1].get('title')\n",
    "            name2 = player_columns[1].find_all('a')[1].text\n",
    "            a_len = len(player_columns[1].find_all('a'))\n",
    "            n_pos = a_len - 2\n",
    "            # ************* check max n_pos for any player and use for loop !!!!!!!!!!!!!!\n",
    "            # for now hoping that there are only max 3 positions\n",
    "            pos1 = 'N/A'\n",
    "            pos2 = 'N/A'\n",
    "            pos3 = 'N/A'\n",
    "            if (n_pos == 1):\n",
    "                pos1 = player_columns[1].find_all('a')[a_len - n_pos].text\n",
    "            elif (n_pos == 2):\n",
    "                pos1 = player_columns[1].find_all('a')[a_len - n_pos].text\n",
    "                pos2 = player_columns[1].find_all('a')[a_len - n_pos + 1].text\n",
    "            elif (n_pos == 3):\n",
    "                pos1 = player_columns[1].find_all('a')[a_len - n_pos].text\n",
    "                pos2 = player_columns[1].find_all('a')[a_len - n_pos + 1].text\n",
    "                pos3 = player_columns[1].find_all('a')[a_len - n_pos + 2].text\n",
    "            age = int(player_columns[2].text)\n",
    "            overall_rating = int(player_columns[3].text)\n",
    "            potential = int(player_columns[4].text)\n",
    "            team = player_columns[5].find('a').text\n",
    "            contract = player_columns[5].find('div',{'class': 'subtitle text-ellipsis rtl'}).text\n",
    "            value = player_columns[6].text[1:len(player_columns[6].text)-1]\n",
    "            wage = player_columns[7].text[1:len(player_columns[7].text)-1]\n",
    "            special_total = int(player_columns[8].text[1:len(player_columns[8].text)-1])\n",
    "            row_data = {'date': dates[k],\n",
    "                        'name1': name1, \n",
    "                        'name2': name2, \n",
    "                        'country': country, \n",
    "                        'age': age, \n",
    "                        'pos1': pos1, \n",
    "                        'pos2': pos2, \n",
    "                        'pos3': pos3, \n",
    "                        'overall_rating': overall_rating, \n",
    "                        'potential': potential, \n",
    "                        'value': value, \n",
    "                        'wage': wage, \n",
    "                        'special_total': special_total, \n",
    "                        'team': team, \n",
    "                        'contract': contract}\n",
    "            sofifa_data = sofifa_data.append(row_data, ignore_index=True)    "
   ]
  },
  {
   "cell_type": "code",
   "execution_count": null,
   "metadata": {},
   "outputs": [],
   "source": [
    "sofifa_data.to_csv('sofifa_players_201314to201718_Jan2019.csv', sep = ',', encoding='utf-8') "
   ]
  }
 ],
 "metadata": {
  "kernelspec": {
   "display_name": "Python 3",
   "language": "python",
   "name": "python3"
  },
  "language_info": {
   "codemirror_mode": {
    "name": "ipython",
    "version": 3
   },
   "file_extension": ".py",
   "mimetype": "text/x-python",
   "name": "python",
   "nbconvert_exporter": "python",
   "pygments_lexer": "ipython3",
   "version": "3.6.4"
  }
 },
 "nbformat": 4,
 "nbformat_minor": 2
}
