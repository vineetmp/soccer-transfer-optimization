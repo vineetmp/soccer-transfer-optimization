{
 "cells": [
  {
   "cell_type": "code",
   "execution_count": null,
   "metadata": {},
   "outputs": [],
   "source": [
    "import os\n",
    "import pandas as pd\n",
    "pd.options.display.max_rows = 5\n",
    "import numpy as np\n",
    "%matplotlib inline\n",
    "import matplotlib.pyplot as plt\n",
    "\n",
    "from sklearn.linear_model import LinearRegression\n",
    "import statsmodels.api as sm\n",
    "from scipy import stats"
   ]
  },
  {
   "cell_type": "code",
   "execution_count": null,
   "metadata": {},
   "outputs": [],
   "source": [
    "data_path = os.path.abspath(os.path.join(os.getcwd(), os.pardir, 'data'))\n",
    "data_path"
   ]
  },
  {
   "cell_type": "markdown",
   "metadata": {},
   "source": [
    "#### Read and clean sofifa players data"
   ]
  },
  {
   "cell_type": "code",
   "execution_count": null,
   "metadata": {},
   "outputs": [],
   "source": [
    "df = pd.read_csv(os.path.join(data_path, 'sofifa_players_201314to201718_Jan2019.csv'))"
   ]
  },
  {
   "cell_type": "code",
   "execution_count": null,
   "metadata": {},
   "outputs": [],
   "source": [
    "df.head(2)"
   ]
  },
  {
   "cell_type": "code",
   "execution_count": null,
   "metadata": {},
   "outputs": [],
   "source": [
    "df.columns = ['id', 'date', 'name1', 'name2', 'country', 'age', 'pos1', 'pos2', 'pos3', 'overall_rating', 'potential', 'value', 'wage', 'special_total', 'team', 'contract']\n",
    "df = df[['date', 'name2', 'team', 'country', 'age', 'pos1', 'overall_rating', 'potential', 'value', 'wage']]"
   ]
  },
  {
   "cell_type": "code",
   "execution_count": null,
   "metadata": {},
   "outputs": [],
   "source": [
    "df.head(2)"
   ]
  },
  {
   "cell_type": "markdown",
   "metadata": {},
   "source": [
    "#### Read and process sofifa club transfer balance data"
   ]
  },
  {
   "cell_type": "code",
   "execution_count": null,
   "metadata": {},
   "outputs": [],
   "source": [
    "bal = pd.read_excel(os.path.join(data_path, 'PL_clubs_transfer_balances.xlsx'), sheet_name='transfer_budgets_processed')\n",
    "bal = bal.dropna()\n",
    "bal.head(2)"
   ]
  },
  {
   "cell_type": "markdown",
   "metadata": {},
   "source": [
    "There are two comparisons to be made, for each team:\n",
    "1. Objective function value change over the years - actual team's (A1) v/s optimal team's (O1).\n",
    "2. Transfer market balances over the years - actual team's (A2) v/s optimal team's (O2).\n",
    "\n",
    "O1 and O2 can be calculated from the results given by the optimization model.\n",
    "\n",
    "The \"bal\" table directly gives A2. A1 needs to be calculated from \"df\" table, as follows."
   ]
  },
  {
   "cell_type": "markdown",
   "metadata": {},
   "source": [
    "##### 1. Get team compositions of 13 clubs, before and after each of the 12 transfer windows"
   ]
  },
  {
   "cell_type": "code",
   "execution_count": null,
   "metadata": {},
   "outputs": [],
   "source": [
    "df.team.unique()"
   ]
  },
  {
   "cell_type": "code",
   "execution_count": null,
   "metadata": {},
   "outputs": [],
   "source": [
    "# df.team.values in \n",
    "bal.clubs.values"
   ]
  },
  {
   "cell_type": "code",
   "execution_count": null,
   "metadata": {},
   "outputs": [],
   "source": [
    "# select player details of PL teams\n",
    "# note that df team names do not have \" FC\" suffix, hence remove \" FC\"\n",
    "df_pl = df[df['team'].isin(bal['clubs'].str.replace(\" FC\", \"\"))]\n",
    "df_pl['team'].unique()"
   ]
  },
  {
   "cell_type": "code",
   "execution_count": null,
   "metadata": {},
   "outputs": [],
   "source": [
    "df_pl.head(2)"
   ]
  },
  {
   "cell_type": "code",
   "execution_count": null,
   "metadata": {},
   "outputs": [],
   "source": [
    "# process df_pl_pl wage and value \n",
    "df_pl.date = df_pl.date.str[-14:]\n",
    "# df_pl.value = df_pl.value.str.replace('M', '')\n",
    "df_pl.value = df_pl.value.str.replace('€', '')\n",
    "# df_pl.wage = df_pl.wage.str.replace('K', '')\n",
    "df_pl.wage = df_pl.wage.str.replace('€', '')\n",
    "df_pl.value = (df_pl.value.replace(r'[KM]+$', '', regex=True).astype(float) * df_pl.value.str.extract(r'[\\d\\.]+([KM]+)', expand=False) .fillna(1).replace(['K','M'], [10**3, 10**6]).astype(int))\n",
    "df_pl.wage = (df_pl.wage.replace(r'[KM]+$', '', regex=True).astype(float) * df_pl.wage.str.extract(r'[\\d\\.]+([KM]+)', expand=False) .fillna(1).replace(['K','M'], [10**3, 10**6]).astype(int))\n",
    "df_pl.head(2)"
   ]
  },
  {
   "cell_type": "code",
   "execution_count": null,
   "metadata": {},
   "outputs": [],
   "source": [
    "# process df_pl_pl date-time \n",
    "# df_pl = df_pl.replace('0', np.nan).ffill() # to replace NAs with 0. Not using this method\n",
    "df_pl = df_pl.dropna() # this may be better than replacing NAs with 0\n",
    "# df_pl\n",
    "df_pl.date = pd.to_datetime(df_pl.date)\n",
    "df_pl = df_pl.sort_values(by = 'date')\n",
    "df_pl.index = range(len(df_pl.index))\n",
    "# df_pl\n",
    "df_pl['month'] = df_pl['date'].dt.month\n",
    "df_pl['year'] = df_pl['date'].dt.year\n",
    "# df_pl.value = pd.to_numeric(df_pl.value)\n",
    "# df_pl.wage = pd.to_numeric(df_pl.wage)\n",
    "df_pl_names = df_pl.name2.unique()\n",
    "df_pl.tail(2)"
   ]
  },
  {
   "cell_type": "code",
   "execution_count": null,
   "metadata": {},
   "outputs": [],
   "source": [
    "# list of unique clubs\n",
    "clubs = df_pl['team'].unique()\n",
    "clubs.sort()\n",
    "# list of unique dates (time periods)\n",
    "times = df_pl['date'].unique() "
   ]
  },
  {
   "cell_type": "code",
   "execution_count": null,
   "metadata": {},
   "outputs": [],
   "source": [
    "max_age = np.max(df_pl['age'])"
   ]
  },
  {
   "cell_type": "code",
   "execution_count": null,
   "metadata": {},
   "outputs": [],
   "source": [
    "np.max(df_pl['value'])"
   ]
  },
  {
   "cell_type": "code",
   "execution_count": null,
   "metadata": {},
   "outputs": [],
   "source": [
    "# calculate market value and salary expenses for each time of each PL club\n",
    "mkt_sly = pd.DataFrame(columns=['club', 'time', 'mkt_val', 'sly_exp'])\n",
    "for club in clubs:\n",
    "    for time in times:\n",
    "        df_pl_temp = df_pl[(df_pl['team']==club) & (df_pl['date']==time)]\n",
    "        # decide later whether to multiply market value and salary expense with weight\n",
    "        df_pl_temp['mkt_val'] = (df_pl_temp['value'] # player p's market value\n",
    "                          * (1 + (df_pl_temp['potential'] - df_pl_temp['overall_rating']) / df_pl_temp['overall_rating']) # multiplication factor based on potential and rating \n",
    "                          * (1 + (max_age - df_pl_temp['age']) / max_age))\n",
    "        \n",
    "        mkt_val_temp = sum(df_pl_temp['mkt_val']) # market value\n",
    "        sly_exp_temp = 26 * sum(df_pl_temp['wage']) # salary expenses (half-season wage = weekly wage * 26)\n",
    "        row_vals = club, time, mkt_val_temp, sly_exp_temp\n",
    "        mkt_sly.loc[len(mkt_sly)] = row_vals     "
   ]
  },
  {
   "cell_type": "markdown",
   "metadata": {},
   "source": [
    "Only two time periods will be shortlisted from each year, hence multiplying weekly wage by 26 (# of weeks in a half-season) makes sense"
   ]
  },
  {
   "cell_type": "code",
   "execution_count": null,
   "metadata": {},
   "outputs": [],
   "source": [
    "mkt_sly"
   ]
  },
  {
   "cell_type": "code",
   "execution_count": null,
   "metadata": {
    "scrolled": true
   },
   "outputs": [],
   "source": [
    "times_str = times.astype(str)\n",
    "times_str = [x[0:10] for x in times_str]\n",
    "# times_str"
   ]
  },
  {
   "cell_type": "code",
   "execution_count": null,
   "metadata": {},
   "outputs": [],
   "source": [
    "# required time windows\n",
    "time_windows = pd.to_datetime(['2016-09-20', '2017-02-14', '2017-09-18', '2018-02-15'])"
   ]
  },
  {
   "cell_type": "code",
   "execution_count": null,
   "metadata": {},
   "outputs": [],
   "source": [
    "# select only the required time windwows\n",
    "mkt_sly = mkt_sly[mkt_sly['time'].isin(time_windows)]"
   ]
  },
  {
   "cell_type": "code",
   "execution_count": null,
   "metadata": {},
   "outputs": [],
   "source": [
    "# get the mean values (of all clubs) of market value and salary expenses, for each time period\n",
    "mkt_sly_means = mkt_sly.groupby(['time']).agg({'mkt_val':'mean', 'sly_exp':'mean'})\n",
    "mkt_sly_means = mkt_sly_means.reset_index()\n",
    "mkt_sly_means"
   ]
  },
  {
   "cell_type": "code",
   "execution_count": null,
   "metadata": {},
   "outputs": [],
   "source": [
    "# load objective function values from model results for plotting\n",
    "mkt_val_model = pd.read_excel(os.path.join(data_path, 'results_Feb2019_v6_modified.xlsx'), sheet_name='exp_market_value')\n",
    "mkt_val_model = mkt_val_model.iloc[1:, :]\n",
    "mkt_val_model['time'] = time_windows\n",
    "mkt_val_model"
   ]
  },
  {
   "cell_type": "code",
   "execution_count": null,
   "metadata": {},
   "outputs": [],
   "source": [
    "xticklabs = ['2016s', '2016w', '2017s', '2017w'] "
   ]
  },
  {
   "cell_type": "code",
   "execution_count": null,
   "metadata": {},
   "outputs": [],
   "source": [
    "fs = 12 # fontsize"
   ]
  },
  {
   "cell_type": "code",
   "execution_count": null,
   "metadata": {},
   "outputs": [],
   "source": [
    "# plot market values\n",
    "fig, ax = plt.subplots(3, 4, figsize=(12,10))\n",
    "plt.subplots_adjust(left=0.05, right=0.95, bottom=0.05, top=0.95, wspace=0.3, hspace=0.3)\n",
    "min_mkt_val_model = min(np.min(mkt_val_model[clubs]))\n",
    "max_mkt_val_model = max(np.max(mkt_val_model[clubs]))\n",
    "for c, club in enumerate(clubs):\n",
    "    mkt_sly_temp = mkt_sly[mkt_sly['club']==club]\n",
    "    mkt_val_model_temp = mkt_val_model[['time', club, 'Mean']]\n",
    "    ax[c//4, c%4].plot(mkt_val_model_temp['time'], mkt_val_model_temp[club], marker='s')\n",
    "    ax[c//4, c%4].plot(mkt_sly_temp['time'], mkt_sly_temp['mkt_val'], marker='o')\n",
    "    ax[c//4, c%4].set_xlabel('transfer windows', fontsize=fs)\n",
    "    ax[c//4, c%4].set_xticks(time_windows)\n",
    "    ax[c//4, c%4].set_xticklabels(xticklabs, fontsize=fs)\n",
    "    ax[c//4, c%4].plot(mkt_val_model_temp['time'], mkt_val_model_temp['Mean'], linewidth=3, linestyle='--', marker='s')\n",
    "    ax[c//4, c%4].plot(mkt_sly_means['time'], mkt_sly_means['mkt_val'], linewidth=3, linestyle='--', marker='o')\n",
    "    ax[c//4, c%4].set_ylabel('market value in Euros', fontsize=fs)\n",
    "    ax[c//4, c%4].set_ylim(0.9*min(min_mkt_val_model, min(mkt_sly['mkt_val']), min(mkt_val_model_temp['Mean']), min(mkt_sly_means['mkt_val'])), \n",
    "                           1.1*max(max_mkt_val_model, max(mkt_sly['mkt_val']), max(mkt_val_model_temp['Mean']), max(mkt_sly_means['mkt_val'])))\n",
    "    ax[c//4, c%4].set_title(club, fontsize=fs)\n",
    "    if c==0:\n",
    "        ax[c//4, c%4].legend(['club (model)', 'club (actual)', 'mean (model)', 'mean (actual)'], fontsize=fs)\n",
    "# fig.savefig('mkt_val_comparison.eps')\n",
    "# fig.savefig('mkt_val_comparison.png')"
   ]
  },
  {
   "cell_type": "code",
   "execution_count": null,
   "metadata": {},
   "outputs": [],
   "source": [
    "# # plot salary expenses\n",
    "# fig, ax = plt.subplots(3, 4, figsize=(16,12))\n",
    "# for c, club in enumerate(clubs):\n",
    "#     mkt_sly_temp = mkt_sly[mkt_sly['club']==club]\n",
    "#     ax[c//4, c%4].plot(mkt_sly_temp['time'], mkt_sly_temp['sly_exp'], marker='o')\n",
    "#     ax[c//4, c%4].set_xlabel('times', fontsize=fs)\n",
    "#     ax[c//4, c%4].set_xticks(time_windows)\n",
    "#     ax[c//4, c%4].set_xticklabels(xticklabs, fontsize=fs)\n",
    "#     ax[c//4, c%4].set_ylabel('salary expenses in Euros', fontsize=fs)\n",
    "#     ax[c//4, c%4].set_ylim(0.95*min(mkt_sly['sly_exp']), 1.05*max(mkt_sly['sly_exp']))\n",
    "#     ax[c//4, c%4].plot(mkt_sly_means['sly_exp'], linewidth=3, linestyle='--', marker='o')\n",
    "#     ax[c//4, c%4].set_title(club, fontsize=fs)\n",
    "#     if c==0:\n",
    "#         ax[c//4, c%4].legend(['club', 'mean'], fontsize=fs)"
   ]
  },
  {
   "cell_type": "code",
   "execution_count": null,
   "metadata": {},
   "outputs": [],
   "source": [
    "# load objective function values from model results for plotting\n",
    "obj_val = pd.read_excel(os.path.join(data_path, 'results_Feb2019_v6_modified.xlsx'), sheet_name='obj_val')\n",
    "obj_val['time'] = time_windows\n",
    "obj_val"
   ]
  },
  {
   "cell_type": "code",
   "execution_count": null,
   "metadata": {},
   "outputs": [],
   "source": [
    "# # plot objective function values\n",
    "# fig, ax = plt.subplots(3, 4, figsize=(12,10))\n",
    "# plt.subplots_adjust(left=0.05, right=0.95, bottom=0.05, top=0.95, wspace=0.3, hspace=0.3)\n",
    "# min_obj_val = min(np.min(mkt_val_model[clubs]))\n",
    "# max_obj_val = max(np.max(mkt_val_model[clubs]))\n",
    "# for c, club in enumerate(clubs):\n",
    "#     obj_val_temp = obj_val[['time', club, 'Mean']]\n",
    "#     ax[c//4, c%4].plot(obj_val_temp['time'], obj_val_temp[club], marker='s')\n",
    "#     ax[c//4, c%4].set_xlabel('transfer windows', fontsize=fs)\n",
    "#     ax[c//4, c%4].set_xticks(time_windows)\n",
    "#     ax[c//4, c%4].set_xticklabels(xticklabs, fontsize=fs)\n",
    "#     ax[c//4, c%4].plot(obj_val_temp['time'], obj_val_temp['Mean'], linewidth=3, linestyle='--', marker='s')\n",
    "#     ax[c//4, c%4].set_ylabel('objective function value', fontsize=fs)\n",
    "#     ax[c//4, c%4].set_ylim(0.9*min(min_obj_val, min(mkt_val_model_temp['Mean'])), \n",
    "#                            1.1*max(max_obj_val, max(obj_val_temp['Mean'])))\n",
    "#     ax[c//4, c%4].set_title(club, fontsize=fs)\n",
    "#     if c==0:\n",
    "#         ax[c//4, c%4].legend(['club', 'mean'], fontsize=fs)\n",
    "# fig.savefig('obj_val_comparison.eps')\n",
    "# fig.savefig('obj_val_comparison.png')"
   ]
  },
  {
   "cell_type": "markdown",
   "metadata": {},
   "source": [
    "#### Analysis relating market value to team performance"
   ]
  },
  {
   "cell_type": "code",
   "execution_count": null,
   "metadata": {},
   "outputs": [],
   "source": [
    "df_pl_summary = df_pl.groupby(['date', 'team']).agg({'value':'sum'})\n",
    "df_pl_summary"
   ]
  },
  {
   "cell_type": "code",
   "execution_count": null,
   "metadata": {},
   "outputs": [],
   "source": [
    "df_pl_summary = df_pl_summary.reset_index()\n",
    "df_pl_summary['month'] = df_pl_summary['date'].dt.month\n",
    "df_pl_summary['year'] = df_pl_summary['date'].dt.year\n",
    "df_pl_summary"
   ]
  },
  {
   "cell_type": "code",
   "execution_count": null,
   "metadata": {},
   "outputs": [],
   "source": [
    "# group by seasons (average values)\n",
    "conditions = [(df_pl_summary['month']==2) | (df_pl_summary['month']==5), \n",
    "             (df_pl_summary['month']==9) | (df_pl_summary['month']==12)]\n",
    "choices = [(df_pl_summary['year']-1).astype(str) + '-' + df_pl_summary['year'].astype(str), \n",
    "          df_pl_summary['year'].astype(str) + '-' + (df_pl_summary['year']+1).astype(str)]\n",
    "df_pl_summary['season'] = np.select(conditions, choices)\n",
    "df_pl_summary = df_pl_summary.groupby(['season', 'team']).agg({'value':'mean'})\n",
    "df_pl_summary = df_pl_summary.reset_index()\n",
    "df_pl_summary"
   ]
  },
  {
   "cell_type": "code",
   "execution_count": null,
   "metadata": {},
   "outputs": [],
   "source": [
    "# retain only the seasons for which good data is available\n",
    "seasons = ['2013-2014', '2014-2015', '2015-2016', '2016-2017', '2017-2018']\n",
    "df_pl_summary = df_pl_summary[df_pl_summary['season'].isin(seasons)]"
   ]
  },
  {
   "cell_type": "code",
   "execution_count": null,
   "metadata": {},
   "outputs": [],
   "source": [
    "df_pl_summary_avg = df_pl_summary.groupby(['team']).agg({'value':'mean'})\n",
    "df_pl_summary_avg = df_pl_summary_avg.reset_index()\n",
    "df_pl_summary_avg"
   ]
  },
  {
   "cell_type": "code",
   "execution_count": null,
   "metadata": {},
   "outputs": [],
   "source": [
    "# load PL standings (table) data\n",
    "pl_table = pd.read_excel(os.path.join(data_path, 'PL_standings.xlsx'), sheet_name='summary')\n",
    "pl_table = pl_table.dropna()\n",
    "pl_table = pl_table.apply(lambda x: x.astype(int) if x.name in seasons else x)\n",
    "pl_table = pl_table.sort_values(['clubs'])\n",
    "pl_table.index = range(len(pl_table))\n",
    "pl_table"
   ]
  },
  {
   "cell_type": "code",
   "execution_count": null,
   "metadata": {},
   "outputs": [],
   "source": [
    "# 1. comparison of average market value and performance across all 5 seasons\n",
    "X = df_pl_summary_avg['value']\n",
    "y = pl_table['average']\n",
    "X2 = sm.add_constant(X)\n",
    "est = sm.OLS(y, X2)\n",
    "est2 = est.fit()\n",
    "print(est2.summary())"
   ]
  },
  {
   "cell_type": "code",
   "execution_count": null,
   "metadata": {},
   "outputs": [],
   "source": [
    "# # to get the attributes in the results object\n",
    "# dir(est2)"
   ]
  },
  {
   "cell_type": "code",
   "execution_count": null,
   "metadata": {},
   "outputs": [],
   "source": [
    "est2.pvalues"
   ]
  },
  {
   "cell_type": "code",
   "execution_count": null,
   "metadata": {},
   "outputs": [],
   "source": [
    "# # 2. comparison of average market value and performance across all 5 seasons\n",
    "# # create data frame for performance v/s market value comparison \n",
    "# d = {'clubs': clubs, \n",
    "#      'market value in million euros': df_pl_summary_avg['value']/1000000, \n",
    "#      'average position': pl_table['average']}\n",
    "# perf_val = pd.DataFrame(data=d)\n",
    "# perf_val\n",
    "# # perf_val.to_excel(\"perf_val.xlsx\")\n",
    "\n",
    "# for s, season in enumerate(seasons):\n",
    "#     X = df_pl_summary[df_pl_summary['season']==season]['value']\n",
    "#     X.index = range(len(X))\n",
    "# #     print(X)\n",
    "#     y = pl_table[season]\n",
    "# #     print(y)\n",
    "#     X2 = sm.add_constant(X)\n",
    "#     est = sm.OLS(y, X2)\n",
    "#     est2 = est.fit()\n",
    "#     print(est2.summary())"
   ]
  },
  {
   "cell_type": "code",
   "execution_count": null,
   "metadata": {},
   "outputs": [],
   "source": []
  }
 ],
 "metadata": {
  "kernelspec": {
   "display_name": "Python 3",
   "language": "python",
   "name": "python3"
  },
  "language_info": {
   "codemirror_mode": {
    "name": "ipython",
    "version": 3
   },
   "file_extension": ".py",
   "mimetype": "text/x-python",
   "name": "python",
   "nbconvert_exporter": "python",
   "pygments_lexer": "ipython3",
   "version": "3.6.4"
  }
 },
 "nbformat": 4,
 "nbformat_minor": 2
}
